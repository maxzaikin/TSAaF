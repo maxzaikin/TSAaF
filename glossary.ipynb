{
 "cells": [
  {
   "cell_type": "markdown",
   "id": "7b54f422-3ec3-4186-96d7-576601004a1b",
   "metadata": {},
   "source": [
    "# GLOSSARY"
   ]
  },
  {
   "cell_type": "markdown",
   "id": "95132f69-bc2e-487e-8c51-8dcc3715e983",
   "metadata": {},
   "source": [
    "## TS Decomposition"
   ]
  },
  {
   "cell_type": "markdown",
   "id": "23c1addf-dcdb-44e2-9ac0-3cb77291f4f3",
   "metadata": {},
   "source": [
    "**Observed**  \n",
    "shows the result of combining the Trend, Seasonal, and Residuals\n",
    "\n",
    "**Trend**  \n",
    "The trend is the slow-moving changes in a time series.  We can think of the trend component as trying to draw a line through most of the data points to show the general direction of a time series.\n",
    "\n",
    "**Seasonal**\n",
    "The seasonal component captures the seasonal variation, which is a cycle that occurs over a fixed period of time.\n",
    "We can see that over the course of a year, or four quarters, the earnings per share start low, increase, and decrease again at the end of the year.\n",
    "Notice how the y-axis shows negative values. Does this mean that the earnings per share are negative? Clearly, that cannot be, since our dataset strictly has positive values. Therefore, we can say that the seasonal component shows how we deviate from the trend.\n",
    "\n",
    "**Residuals**\n",
    "is what cannot be explained by either the trend or the seasonal components. We can think of the residuals as adding the Trend and Seasonal graphs together and comparing the value at each point in time to the Observed graph. Residuals usually correspond to random errors, also termed white noise,They represent information that we cannot model or predict, since it is completely random\n",
    "\n",
    "\n",
    "<img src=\"./images/ts-decomposition.png\" width=\"550\" />"
   ]
  },
  {
   "cell_type": "markdown",
   "id": "57657c48-d1f4-4867-9a4f-45085d0dbb1f",
   "metadata": {},
   "source": [
    "## Forcasting\n",
    "\n",
    "Forecasting is predicting the future using historical data and knowledge of future events that might affect our forecasts.\n",
    "\n",
    "<img src=\"./images/f-roadmap.png\" width=\"350\" />\n",
    "\n",
    "**Forecast horizon**\n",
    "\n",
    "Now you can set the horizon of your forecast. In this case, your camping trip is one\n",
    "month from now, and it will last for one week. Therefore, you have a horizon of one\n",
    "week, since you are only interested in predicting the minimum temperature during\n",
    "the camping trip."
   ]
  },
  {
   "cell_type": "code",
   "execution_count": null,
   "id": "a99fc9d6-af65-4fb7-a6e3-8c2d5fa0384a",
   "metadata": {},
   "outputs": [],
   "source": []
  }
 ],
 "metadata": {
  "kernelspec": {
   "display_name": "Python 3 (ipykernel)",
   "language": "python",
   "name": "python3"
  },
  "language_info": {
   "codemirror_mode": {
    "name": "ipython",
    "version": 3
   },
   "file_extension": ".py",
   "mimetype": "text/x-python",
   "name": "python",
   "nbconvert_exporter": "python",
   "pygments_lexer": "ipython3",
   "version": "3.11.10"
  }
 },
 "nbformat": 4,
 "nbformat_minor": 5
}
